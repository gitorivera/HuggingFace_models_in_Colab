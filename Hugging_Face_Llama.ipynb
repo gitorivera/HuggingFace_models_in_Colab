{
  "nbformat": 4,
  "nbformat_minor": 0,
  "metadata": {
    "colab": {
      "provenance": [],
      "gpuType": "T4",
      "authorship_tag": "ABX9TyP02How7+otddb6M8ecoEtC",
      "include_colab_link": true
    },
    "kernelspec": {
      "name": "python3",
      "display_name": "Python 3"
    },
    "language_info": {
      "name": "python"
    },
    "accelerator": "GPU"
  },
  "cells": [
    {
      "cell_type": "markdown",
      "metadata": {
        "id": "view-in-github",
        "colab_type": "text"
      },
      "source": [
        "<a href=\"https://colab.research.google.com/github/gitorivera/HuggingFace_models_in_Colab/blob/main/Hugging_Face_Llama.ipynb\" target=\"_parent\"><img src=\"https://colab.research.google.com/assets/colab-badge.svg\" alt=\"Open In Colab\"/></a>"
      ]
    },
    {
      "cell_type": "code",
      "source": [
        "!pip install -q -U bitsandbytes\n",
        "!pip install -q -U git+https://github.com/huggingface/transformers.git\n",
        "!pip install -q -U git+https://github.com/huggingface/peft.git\n",
        "!pip install -q -U git+https://github.com/huggingface/accelerate.git\n",
        "!pip install sentencepiece\n",
        "!pip install langchain\n",
        "!pip install accelerate\n"
      ],
      "metadata": {
        "id": "3qEiZ-EoJ4Bz"
      },
      "execution_count": null,
      "outputs": []
    },
    {
      "cell_type": "markdown",
      "source": [
        "## Login a HuggingFace"
      ],
      "metadata": {
        "id": "oXjVhu3XMVuJ"
      }
    },
    {
      "cell_type": "code",
      "source": [
        "!huggingface-cli login\n"
      ],
      "metadata": {
        "id": "9QpO8-19MZO7"
      },
      "execution_count": null,
      "outputs": []
    },
    {
      "cell_type": "code",
      "source": [
        "from transformers import AutoModelForCausalLM, AutoTokenizer, pipeline\n",
        "models = {\n",
        "    1: \"meta-llama/Llama-2-7b-chat-hf\",\n",
        "    2: \"meta-llama/Llama-2-13b-chat-hf\",\n",
        "    3: \"meta-llama/Llama-2-13b-hf\"\n",
        "}\n",
        "model_num = int(input(\"Ingrese en número del modelo a usar (1-3)\"))\n",
        "model_id = models[model_num]\n",
        "\n",
        "model = AutoModelForCausalLM.from_pretrained(model_id)\n",
        "tokenizer = AutoTokenizer.from_pretrained(model_id)"
      ],
      "metadata": {
        "id": "Au6LRmtuMzKS"
      },
      "execution_count": null,
      "outputs": []
    },
    {
      "cell_type": "markdown",
      "source": [
        "## Generamos los pipelines de Texto\n"
      ],
      "metadata": {
        "id": "srikzXKlRN8r"
      }
    },
    {
      "cell_type": "code",
      "source": [
        "generate_text_pipeline = pipeline(\n",
        "    model = model, tokenizer = tokenizer,\n",
        "    return_full_text = True,\n",
        "    task = 'text-generation',\n",
        "    temperature = 1,\n",
        "    max_new_tokens=512,\n",
        "    repetition_penalty = 1.1\n",
        ")"
      ],
      "metadata": {
        "id": "Srb0syLERViG"
      },
      "execution_count": null,
      "outputs": []
    },
    {
      "cell_type": "markdown",
      "source": [
        "## Generamos la respuesta del modelo"
      ],
      "metadata": {
        "id": "sCCjYG_edNSp"
      }
    },
    {
      "cell_type": "code",
      "source": [
        "input_text='Actua como miguel de Cervantes. Quiero que me des un poema de 4 lineas en el estilo de romeo y julieta, para mi esposa'\n",
        "res = generate_text_pipeline(input_text)\n",
        "print(res[0][\"generated_text\"])"
      ],
      "metadata": {
        "id": "LrMaTxz8dQJu"
      },
      "execution_count": null,
      "outputs": []
    }
  ]
}